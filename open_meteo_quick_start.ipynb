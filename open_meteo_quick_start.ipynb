{
 "cells": [
  {
   "attachments": {},
   "cell_type": "markdown",
   "metadata": {},
   "source": [
    "# Quick start guide\n",
    "How to use the weather_data_retriever as a package"
   ]
  },
  {
   "attachments": {},
   "cell_type": "markdown",
   "metadata": {},
   "source": [
    "## Import"
   ]
  },
  {
   "cell_type": "code",
   "execution_count": 1,
   "metadata": {},
   "outputs": [],
   "source": [
    "from weather_data_retriever import fetch_open_meteo_weather_data"
   ]
  },
  {
   "attachments": {},
   "cell_type": "markdown",
   "metadata": {},
   "source": [
    "## How to use 'fetch_open_meteo_weather_data'\n",
    "\n",
    "With the goal of requiring as few lines of code as feasible for its implementation, the function has been designed for maximum simplicity of usage.\n",
    "\n",
    "This function can be used for both retrieving historical and forecasted data\n",
    "\n",
    "- We will use it for Athens (Greece's capital city).\n",
    "- The start date will be \"2021-05-05\" (only applicable for historical data)\n",
    "- The end date will be \"2022-05-05\" (only applicable for historical data)\n",
    "- The aggragation level will be 'daily\" \n",
    "- The variables_to_fetch will be left empty in order to use the full set of the default variables\n",
    "\n",
    "For more information about the variables usage have a look at [README.md](README.md)\n",
    "\n",
    "> We can get both a dataframe and the coming dictionary from the request (the dictionary may be needed in order to have more information based on the coming metadata)"
   ]
  },
  {
   "attachments": {},
   "cell_type": "markdown",
   "metadata": {},
   "source": [
    "### Historical requests"
   ]
  },
  {
   "attachments": {},
   "cell_type": "markdown",
   "metadata": {},
   "source": [
    "#### How to use it for \"daily\" aggregation"
   ]
  },
  {
   "cell_type": "code",
   "execution_count": 7,
   "metadata": {},
   "outputs": [],
   "source": [
    "daily_historical_weather_data_df, daily_historical_weather_data_dict = fetch_open_meteo_weather_data(location_name = \"Athens\", start_date = \"2021-05-05\", end_date = \"2021-12-31\", case=\"historical\", aggregation=\"daily\")"
   ]
  },
  {
   "cell_type": "code",
   "execution_count": 8,
   "metadata": {},
   "outputs": [
    {
     "data": {
      "text/html": [
       "<div>\n",
       "<style scoped>\n",
       "    .dataframe tbody tr th:only-of-type {\n",
       "        vertical-align: middle;\n",
       "    }\n",
       "\n",
       "    .dataframe tbody tr th {\n",
       "        vertical-align: top;\n",
       "    }\n",
       "\n",
       "    .dataframe thead th {\n",
       "        text-align: right;\n",
       "    }\n",
       "</style>\n",
       "<table border=\"1\" class=\"dataframe\">\n",
       "  <thead>\n",
       "    <tr style=\"text-align: right;\">\n",
       "      <th></th>\n",
       "      <th>time</th>\n",
       "      <th>temperature_2m_max</th>\n",
       "      <th>temperature_2m_min</th>\n",
       "      <th>apparent_temperature_max</th>\n",
       "      <th>apparent_temperature_min</th>\n",
       "      <th>sunrise</th>\n",
       "      <th>precipitation_sum</th>\n",
       "      <th>rain_sum</th>\n",
       "    </tr>\n",
       "  </thead>\n",
       "  <tbody>\n",
       "    <tr>\n",
       "      <th>0</th>\n",
       "      <td>2021-05-04 22:00:00</td>\n",
       "      <td>27.3</td>\n",
       "      <td>17.5</td>\n",
       "      <td>26.7</td>\n",
       "      <td>15.0</td>\n",
       "      <td>1620184960</td>\n",
       "      <td>0.2</td>\n",
       "      <td>0.2</td>\n",
       "    </tr>\n",
       "    <tr>\n",
       "      <th>1</th>\n",
       "      <td>2021-05-05 22:00:00</td>\n",
       "      <td>27.8</td>\n",
       "      <td>17.0</td>\n",
       "      <td>29.0</td>\n",
       "      <td>17.4</td>\n",
       "      <td>1620271298</td>\n",
       "      <td>0.1</td>\n",
       "      <td>0.1</td>\n",
       "    </tr>\n",
       "    <tr>\n",
       "      <th>2</th>\n",
       "      <td>2021-05-06 22:00:00</td>\n",
       "      <td>26.5</td>\n",
       "      <td>16.9</td>\n",
       "      <td>27.2</td>\n",
       "      <td>15.5</td>\n",
       "      <td>1620357637</td>\n",
       "      <td>0.0</td>\n",
       "      <td>0.0</td>\n",
       "    </tr>\n",
       "    <tr>\n",
       "      <th>3</th>\n",
       "      <td>2021-05-07 22:00:00</td>\n",
       "      <td>28.5</td>\n",
       "      <td>17.6</td>\n",
       "      <td>31.7</td>\n",
       "      <td>19.1</td>\n",
       "      <td>1620443975</td>\n",
       "      <td>0.0</td>\n",
       "      <td>0.0</td>\n",
       "    </tr>\n",
       "    <tr>\n",
       "      <th>4</th>\n",
       "      <td>2021-05-08 22:00:00</td>\n",
       "      <td>23.2</td>\n",
       "      <td>15.7</td>\n",
       "      <td>21.3</td>\n",
       "      <td>13.3</td>\n",
       "      <td>1620530313</td>\n",
       "      <td>0.0</td>\n",
       "      <td>0.0</td>\n",
       "    </tr>\n",
       "  </tbody>\n",
       "</table>\n",
       "</div>"
      ],
      "text/plain": [
       "                 time  temperature_2m_max  temperature_2m_min  \\\n",
       "0 2021-05-04 22:00:00                27.3                17.5   \n",
       "1 2021-05-05 22:00:00                27.8                17.0   \n",
       "2 2021-05-06 22:00:00                26.5                16.9   \n",
       "3 2021-05-07 22:00:00                28.5                17.6   \n",
       "4 2021-05-08 22:00:00                23.2                15.7   \n",
       "\n",
       "   apparent_temperature_max  apparent_temperature_min     sunrise  \\\n",
       "0                      26.7                      15.0  1620184960   \n",
       "1                      29.0                      17.4  1620271298   \n",
       "2                      27.2                      15.5  1620357637   \n",
       "3                      31.7                      19.1  1620443975   \n",
       "4                      21.3                      13.3  1620530313   \n",
       "\n",
       "   precipitation_sum  rain_sum  \n",
       "0                0.2       0.2  \n",
       "1                0.1       0.1  \n",
       "2                0.0       0.0  \n",
       "3                0.0       0.0  \n",
       "4                0.0       0.0  "
      ]
     },
     "execution_count": 8,
     "metadata": {},
     "output_type": "execute_result"
    }
   ],
   "source": [
    "daily_historical_weather_data_df.head(5)"
   ]
  },
  {
   "cell_type": "code",
   "execution_count": 21,
   "metadata": {},
   "outputs": [
    {
     "name": "stdout",
     "output_type": "stream",
     "text": [
      "dict_keys(['latitude', 'longitude', 'generationtime_ms', 'utc_offset_seconds', 'timezone', 'timezone_abbreviation', 'elevation', 'daily_units', 'daily'])\n"
     ]
    }
   ],
   "source": [
    "print(daily_historical_weather_data_dict.keys())"
   ]
  },
  {
   "attachments": {},
   "cell_type": "markdown",
   "metadata": {},
   "source": [
    "#### How to use it for \"hourly\" aggregation"
   ]
  },
  {
   "cell_type": "code",
   "execution_count": 12,
   "metadata": {},
   "outputs": [],
   "source": [
    "hourly_historical_weather_data_df, hourly_historical_weather_data_dict = fetch_open_meteo_weather_data(location_name = \"Athens\", start_date = \"2021-05-05\", end_date = \"2021-12-31\", case=\"historical\", aggregation=\"hourly\")"
   ]
  },
  {
   "cell_type": "code",
   "execution_count": 13,
   "metadata": {},
   "outputs": [
    {
     "data": {
      "text/html": [
       "<div>\n",
       "<style scoped>\n",
       "    .dataframe tbody tr th:only-of-type {\n",
       "        vertical-align: middle;\n",
       "    }\n",
       "\n",
       "    .dataframe tbody tr th {\n",
       "        vertical-align: top;\n",
       "    }\n",
       "\n",
       "    .dataframe thead th {\n",
       "        text-align: right;\n",
       "    }\n",
       "</style>\n",
       "<table border=\"1\" class=\"dataframe\">\n",
       "  <thead>\n",
       "    <tr style=\"text-align: right;\">\n",
       "      <th></th>\n",
       "      <th>time</th>\n",
       "      <th>temperature_2m</th>\n",
       "      <th>relativehumidity_2m</th>\n",
       "      <th>dewpoint_2m</th>\n",
       "      <th>apparent_temperature</th>\n",
       "      <th>precipitation</th>\n",
       "      <th>rain</th>\n",
       "      <th>snowfall</th>\n",
       "    </tr>\n",
       "  </thead>\n",
       "  <tbody>\n",
       "    <tr>\n",
       "      <th>0</th>\n",
       "      <td>2021-05-04 22:00:00</td>\n",
       "      <td>19.4</td>\n",
       "      <td>61</td>\n",
       "      <td>11.7</td>\n",
       "      <td>15.6</td>\n",
       "      <td>0.0</td>\n",
       "      <td>0.0</td>\n",
       "      <td>0.0</td>\n",
       "    </tr>\n",
       "    <tr>\n",
       "      <th>1</th>\n",
       "      <td>2021-05-04 23:00:00</td>\n",
       "      <td>19.3</td>\n",
       "      <td>60</td>\n",
       "      <td>11.3</td>\n",
       "      <td>15.5</td>\n",
       "      <td>0.0</td>\n",
       "      <td>0.0</td>\n",
       "      <td>0.0</td>\n",
       "    </tr>\n",
       "    <tr>\n",
       "      <th>2</th>\n",
       "      <td>2021-05-05 00:00:00</td>\n",
       "      <td>18.8</td>\n",
       "      <td>63</td>\n",
       "      <td>11.6</td>\n",
       "      <td>15.5</td>\n",
       "      <td>0.0</td>\n",
       "      <td>0.0</td>\n",
       "      <td>0.0</td>\n",
       "    </tr>\n",
       "    <tr>\n",
       "      <th>3</th>\n",
       "      <td>2021-05-05 01:00:00</td>\n",
       "      <td>18.3</td>\n",
       "      <td>66</td>\n",
       "      <td>12.0</td>\n",
       "      <td>15.5</td>\n",
       "      <td>0.0</td>\n",
       "      <td>0.0</td>\n",
       "      <td>0.0</td>\n",
       "    </tr>\n",
       "    <tr>\n",
       "      <th>4</th>\n",
       "      <td>2021-05-05 02:00:00</td>\n",
       "      <td>17.9</td>\n",
       "      <td>69</td>\n",
       "      <td>12.2</td>\n",
       "      <td>15.0</td>\n",
       "      <td>0.0</td>\n",
       "      <td>0.0</td>\n",
       "      <td>0.0</td>\n",
       "    </tr>\n",
       "  </tbody>\n",
       "</table>\n",
       "</div>"
      ],
      "text/plain": [
       "                 time  temperature_2m  relativehumidity_2m  dewpoint_2m  \\\n",
       "0 2021-05-04 22:00:00            19.4                   61         11.7   \n",
       "1 2021-05-04 23:00:00            19.3                   60         11.3   \n",
       "2 2021-05-05 00:00:00            18.8                   63         11.6   \n",
       "3 2021-05-05 01:00:00            18.3                   66         12.0   \n",
       "4 2021-05-05 02:00:00            17.9                   69         12.2   \n",
       "\n",
       "   apparent_temperature  precipitation  rain  snowfall  \n",
       "0                  15.6            0.0   0.0       0.0  \n",
       "1                  15.5            0.0   0.0       0.0  \n",
       "2                  15.5            0.0   0.0       0.0  \n",
       "3                  15.5            0.0   0.0       0.0  \n",
       "4                  15.0            0.0   0.0       0.0  "
      ]
     },
     "execution_count": 13,
     "metadata": {},
     "output_type": "execute_result"
    }
   ],
   "source": [
    "hourly_historical_weather_data_df.head(5)"
   ]
  },
  {
   "attachments": {},
   "cell_type": "markdown",
   "metadata": {},
   "source": [
    "> It is important to keep in mind that the hourly format does not utilize all of the fields that were present in the prior format. Instead, it uses some of them from the previous format in addition to certain additional fields."
   ]
  },
  {
   "cell_type": "code",
   "execution_count": 22,
   "metadata": {},
   "outputs": [
    {
     "name": "stdout",
     "output_type": "stream",
     "text": [
      "dict_keys(['latitude', 'longitude', 'generationtime_ms', 'utc_offset_seconds', 'timezone', 'timezone_abbreviation', 'elevation', 'hourly_units', 'hourly'])\n"
     ]
    }
   ],
   "source": [
    "print(hourly_historical_weather_data_dict.keys())"
   ]
  },
  {
   "attachments": {},
   "cell_type": "markdown",
   "metadata": {},
   "source": [
    "### Forecasting requests"
   ]
  },
  {
   "attachments": {},
   "cell_type": "markdown",
   "metadata": {},
   "source": [
    "#### How to use it for \"daily\" aggregation"
   ]
  },
  {
   "cell_type": "code",
   "execution_count": 17,
   "metadata": {},
   "outputs": [],
   "source": [
    "daily_forecasted_weather_data_df, daily_forecasted_weather_data_dict = fetch_open_meteo_weather_data(location_name = \"Athens\", start_date = \"2021-05-05\", end_date = \"2021-12-31\", case=\"forecast\", aggregation=\"daily\")"
   ]
  },
  {
   "cell_type": "code",
   "execution_count": 18,
   "metadata": {},
   "outputs": [
    {
     "data": {
      "text/html": [
       "<div>\n",
       "<style scoped>\n",
       "    .dataframe tbody tr th:only-of-type {\n",
       "        vertical-align: middle;\n",
       "    }\n",
       "\n",
       "    .dataframe tbody tr th {\n",
       "        vertical-align: top;\n",
       "    }\n",
       "\n",
       "    .dataframe thead th {\n",
       "        text-align: right;\n",
       "    }\n",
       "</style>\n",
       "<table border=\"1\" class=\"dataframe\">\n",
       "  <thead>\n",
       "    <tr style=\"text-align: right;\">\n",
       "      <th></th>\n",
       "      <th>time</th>\n",
       "      <th>temperature_2m_max</th>\n",
       "      <th>temperature_2m_min</th>\n",
       "      <th>apparent_temperature_max</th>\n",
       "      <th>apparent_temperature_min</th>\n",
       "      <th>sunrise</th>\n",
       "      <th>precipitation_sum</th>\n",
       "      <th>rain_sum</th>\n",
       "      <th>showers_sum</th>\n",
       "      <th>snowfall_sum</th>\n",
       "    </tr>\n",
       "  </thead>\n",
       "  <tbody>\n",
       "    <tr>\n",
       "      <th>0</th>\n",
       "      <td>2023-01-03 22:00:00</td>\n",
       "      <td>17.0</td>\n",
       "      <td>4.3</td>\n",
       "      <td>15.6</td>\n",
       "      <td>1.8</td>\n",
       "      <td>1672810790</td>\n",
       "      <td>0.0</td>\n",
       "      <td>0.0</td>\n",
       "      <td>0.0</td>\n",
       "      <td>0.0</td>\n",
       "    </tr>\n",
       "    <tr>\n",
       "      <th>1</th>\n",
       "      <td>2023-01-04 22:00:00</td>\n",
       "      <td>16.1</td>\n",
       "      <td>6.6</td>\n",
       "      <td>14.8</td>\n",
       "      <td>4.8</td>\n",
       "      <td>1672897195</td>\n",
       "      <td>0.0</td>\n",
       "      <td>0.0</td>\n",
       "      <td>0.0</td>\n",
       "      <td>0.0</td>\n",
       "    </tr>\n",
       "    <tr>\n",
       "      <th>2</th>\n",
       "      <td>2023-01-05 22:00:00</td>\n",
       "      <td>17.1</td>\n",
       "      <td>5.2</td>\n",
       "      <td>15.9</td>\n",
       "      <td>3.1</td>\n",
       "      <td>1672983593</td>\n",
       "      <td>0.0</td>\n",
       "      <td>0.0</td>\n",
       "      <td>0.0</td>\n",
       "      <td>0.0</td>\n",
       "    </tr>\n",
       "    <tr>\n",
       "      <th>3</th>\n",
       "      <td>2023-01-06 22:00:00</td>\n",
       "      <td>16.8</td>\n",
       "      <td>5.6</td>\n",
       "      <td>15.5</td>\n",
       "      <td>2.8</td>\n",
       "      <td>1673069989</td>\n",
       "      <td>0.0</td>\n",
       "      <td>0.0</td>\n",
       "      <td>0.0</td>\n",
       "      <td>0.0</td>\n",
       "    </tr>\n",
       "    <tr>\n",
       "      <th>4</th>\n",
       "      <td>2023-01-07 22:00:00</td>\n",
       "      <td>16.1</td>\n",
       "      <td>5.3</td>\n",
       "      <td>14.7</td>\n",
       "      <td>2.9</td>\n",
       "      <td>1673156384</td>\n",
       "      <td>0.0</td>\n",
       "      <td>0.0</td>\n",
       "      <td>0.0</td>\n",
       "      <td>0.0</td>\n",
       "    </tr>\n",
       "  </tbody>\n",
       "</table>\n",
       "</div>"
      ],
      "text/plain": [
       "                 time  temperature_2m_max  temperature_2m_min  \\\n",
       "0 2023-01-03 22:00:00                17.0                 4.3   \n",
       "1 2023-01-04 22:00:00                16.1                 6.6   \n",
       "2 2023-01-05 22:00:00                17.1                 5.2   \n",
       "3 2023-01-06 22:00:00                16.8                 5.6   \n",
       "4 2023-01-07 22:00:00                16.1                 5.3   \n",
       "\n",
       "   apparent_temperature_max  apparent_temperature_min     sunrise  \\\n",
       "0                      15.6                       1.8  1672810790   \n",
       "1                      14.8                       4.8  1672897195   \n",
       "2                      15.9                       3.1  1672983593   \n",
       "3                      15.5                       2.8  1673069989   \n",
       "4                      14.7                       2.9  1673156384   \n",
       "\n",
       "   precipitation_sum  rain_sum  showers_sum  snowfall_sum  \n",
       "0                0.0       0.0          0.0           0.0  \n",
       "1                0.0       0.0          0.0           0.0  \n",
       "2                0.0       0.0          0.0           0.0  \n",
       "3                0.0       0.0          0.0           0.0  \n",
       "4                0.0       0.0          0.0           0.0  "
      ]
     },
     "execution_count": 18,
     "metadata": {},
     "output_type": "execute_result"
    }
   ],
   "source": [
    "daily_forecasted_weather_data_df.head(5)"
   ]
  },
  {
   "cell_type": "code",
   "execution_count": 23,
   "metadata": {},
   "outputs": [
    {
     "name": "stdout",
     "output_type": "stream",
     "text": [
      "dict_keys(['latitude', 'longitude', 'generationtime_ms', 'utc_offset_seconds', 'timezone', 'timezone_abbreviation', 'elevation', 'daily_units', 'daily'])\n"
     ]
    }
   ],
   "source": [
    "print(daily_forecasted_weather_data_dict.keys())"
   ]
  },
  {
   "attachments": {},
   "cell_type": "markdown",
   "metadata": {},
   "source": [
    "### How to use it for \"hourly\" aggregation (it needs a range of at least 2 years)"
   ]
  },
  {
   "cell_type": "code",
   "execution_count": 19,
   "metadata": {},
   "outputs": [],
   "source": [
    "hourly_forecasted_weather_data_df, hourly_forecasted_weather_data_dict = fetch_open_meteo_weather_data(location_name = \"Athens\", start_date = \"2021-05-05\", end_date = \"2021-12-31\", case=\"forecast\", aggregation=\"hourly\")"
   ]
  },
  {
   "cell_type": "code",
   "execution_count": 20,
   "metadata": {},
   "outputs": [
    {
     "data": {
      "text/html": [
       "<div>\n",
       "<style scoped>\n",
       "    .dataframe tbody tr th:only-of-type {\n",
       "        vertical-align: middle;\n",
       "    }\n",
       "\n",
       "    .dataframe tbody tr th {\n",
       "        vertical-align: top;\n",
       "    }\n",
       "\n",
       "    .dataframe thead th {\n",
       "        text-align: right;\n",
       "    }\n",
       "</style>\n",
       "<table border=\"1\" class=\"dataframe\">\n",
       "  <thead>\n",
       "    <tr style=\"text-align: right;\">\n",
       "      <th></th>\n",
       "      <th>time</th>\n",
       "      <th>temperature_2m</th>\n",
       "      <th>relativehumidity_2m</th>\n",
       "      <th>dewpoint_2m</th>\n",
       "      <th>apparent_temperature</th>\n",
       "      <th>precipitation</th>\n",
       "      <th>rain</th>\n",
       "      <th>snowfall</th>\n",
       "      <th>showers</th>\n",
       "    </tr>\n",
       "  </thead>\n",
       "  <tbody>\n",
       "    <tr>\n",
       "      <th>0</th>\n",
       "      <td>2023-01-03 22:00:00</td>\n",
       "      <td>5.8</td>\n",
       "      <td>91</td>\n",
       "      <td>3.9</td>\n",
       "      <td>3.6</td>\n",
       "      <td>0.0</td>\n",
       "      <td>0.0</td>\n",
       "      <td>0.0</td>\n",
       "      <td>0.0</td>\n",
       "    </tr>\n",
       "    <tr>\n",
       "      <th>1</th>\n",
       "      <td>2023-01-03 23:00:00</td>\n",
       "      <td>5.4</td>\n",
       "      <td>91</td>\n",
       "      <td>3.6</td>\n",
       "      <td>3.1</td>\n",
       "      <td>0.0</td>\n",
       "      <td>0.0</td>\n",
       "      <td>0.0</td>\n",
       "      <td>0.0</td>\n",
       "    </tr>\n",
       "    <tr>\n",
       "      <th>2</th>\n",
       "      <td>2023-01-04 00:00:00</td>\n",
       "      <td>5.2</td>\n",
       "      <td>92</td>\n",
       "      <td>2.9</td>\n",
       "      <td>3.0</td>\n",
       "      <td>0.0</td>\n",
       "      <td>0.0</td>\n",
       "      <td>0.0</td>\n",
       "      <td>0.0</td>\n",
       "    </tr>\n",
       "    <tr>\n",
       "      <th>3</th>\n",
       "      <td>2023-01-04 01:00:00</td>\n",
       "      <td>5.0</td>\n",
       "      <td>94</td>\n",
       "      <td>3.3</td>\n",
       "      <td>2.7</td>\n",
       "      <td>0.0</td>\n",
       "      <td>0.0</td>\n",
       "      <td>0.0</td>\n",
       "      <td>0.0</td>\n",
       "    </tr>\n",
       "    <tr>\n",
       "      <th>4</th>\n",
       "      <td>2023-01-04 02:00:00</td>\n",
       "      <td>5.1</td>\n",
       "      <td>97</td>\n",
       "      <td>3.9</td>\n",
       "      <td>2.9</td>\n",
       "      <td>0.0</td>\n",
       "      <td>0.0</td>\n",
       "      <td>0.0</td>\n",
       "      <td>0.0</td>\n",
       "    </tr>\n",
       "  </tbody>\n",
       "</table>\n",
       "</div>"
      ],
      "text/plain": [
       "                 time  temperature_2m  relativehumidity_2m  dewpoint_2m  \\\n",
       "0 2023-01-03 22:00:00             5.8                   91          3.9   \n",
       "1 2023-01-03 23:00:00             5.4                   91          3.6   \n",
       "2 2023-01-04 00:00:00             5.2                   92          2.9   \n",
       "3 2023-01-04 01:00:00             5.0                   94          3.3   \n",
       "4 2023-01-04 02:00:00             5.1                   97          3.9   \n",
       "\n",
       "   apparent_temperature  precipitation  rain  snowfall  showers  \n",
       "0                   3.6            0.0   0.0       0.0      0.0  \n",
       "1                   3.1            0.0   0.0       0.0      0.0  \n",
       "2                   3.0            0.0   0.0       0.0      0.0  \n",
       "3                   2.7            0.0   0.0       0.0      0.0  \n",
       "4                   2.9            0.0   0.0       0.0      0.0  "
      ]
     },
     "execution_count": 20,
     "metadata": {},
     "output_type": "execute_result"
    }
   ],
   "source": [
    "hourly_forecasted_weather_data_df.head(5)"
   ]
  },
  {
   "cell_type": "code",
   "execution_count": 24,
   "metadata": {},
   "outputs": [
    {
     "name": "stdout",
     "output_type": "stream",
     "text": [
      "dict_keys(['latitude', 'longitude', 'generationtime_ms', 'utc_offset_seconds', 'timezone', 'timezone_abbreviation', 'elevation', 'hourly_units', 'hourly'])\n"
     ]
    }
   ],
   "source": [
    "print(hourly_forecasted_weather_data_dict.keys())"
   ]
  }
 ],
 "metadata": {
  "kernelspec": {
   "display_name": ".gevenv",
   "language": "python",
   "name": "python3"
  },
  "language_info": {
   "codemirror_mode": {
    "name": "ipython",
    "version": 3
   },
   "file_extension": ".py",
   "mimetype": "text/x-python",
   "name": "python",
   "nbconvert_exporter": "python",
   "pygments_lexer": "ipython3",
   "version": "3.8.6"
  },
  "orig_nbformat": 4,
  "vscode": {
   "interpreter": {
    "hash": "5f340924a6ea976127f0d59da28f9f8bdf63af91569616578cdf2653401ecf9e"
   }
  }
 },
 "nbformat": 4,
 "nbformat_minor": 2
}
